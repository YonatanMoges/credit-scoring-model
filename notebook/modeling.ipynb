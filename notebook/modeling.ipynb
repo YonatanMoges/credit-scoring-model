{
 "cells": [
  {
   "cell_type": "code",
   "execution_count": 1,
   "metadata": {},
   "outputs": [],
   "source": [
    "# Import Libraries\n",
    "import pandas as pd\n",
    "\n",
    "# Import Custom Modules\n",
    "import sys\n",
    "sys.path.append('../scripts') \n",
    "\n",
    "from modeling import ModelTrainer\n",
    "\n",
    "import warnings\n",
    "warnings.filterwarnings('ignore')"
   ]
  },
  {
   "cell_type": "code",
   "execution_count": 2,
   "metadata": {},
   "outputs": [],
   "source": [
    "# Load Data\n",
    "data = pd.read_csv('../data/final_dataset_for_modeling.csv')"
   ]
  },
  {
   "cell_type": "markdown",
   "metadata": {},
   "source": [
    "Split the Data"
   ]
  },
  {
   "cell_type": "code",
   "execution_count": 3,
   "metadata": {},
   "outputs": [],
   "source": [
    "# Define target column and split data\n",
    "target_column = 'Default_Label'  # Adjust based on your final dataframe\n",
    "trainer = ModelTrainer(data, target_column)\n",
    "trainer.split_data()"
   ]
  },
  {
   "cell_type": "markdown",
   "metadata": {},
   "source": [
    "Choose and Train Models"
   ]
  },
  {
   "cell_type": "code",
   "execution_count": 4,
   "metadata": {},
   "outputs": [],
   "source": [
    "# Choose models and train them\n",
    "trainer.choose_models()\n",
    "trainer.train_models()"
   ]
  },
  {
   "cell_type": "code",
   "execution_count": 5,
   "metadata": {},
   "outputs": [
    {
     "name": "stdout",
     "output_type": "stream",
     "text": [
      "                     Accuracy  Precision    Recall  F1 Score   ROC AUC\n",
      "Logistic Regression  0.946595   0.952000  0.941953  0.946950  0.946652\n",
      "Decision Tree        0.958611   0.946154  0.973615  0.959688  0.958429\n",
      "Random Forest        0.981308   0.971576  0.992084  0.981723  0.981177\n",
      "Gradient Boosting    0.985314   0.984211  0.986807  0.985507  0.985296\n"
     ]
    }
   ],
   "source": [
    "evaluation_results = trainer.evaluate_models()\n",
    "evaluation_results_df = pd.DataFrame(evaluation_results).T\n",
    "print(evaluation_results_df)"
   ]
  },
  {
   "cell_type": "markdown",
   "metadata": {},
   "source": [
    "Hyperparameter Tuning"
   ]
  },
  {
   "cell_type": "code",
   "execution_count": 6,
   "metadata": {},
   "outputs": [],
   "source": [
    "trainer.hyperparameter_tuning()"
   ]
  },
  {
   "cell_type": "markdown",
   "metadata": {},
   "source": [
    "Evaluate Models"
   ]
  },
  {
   "cell_type": "code",
   "execution_count": 7,
   "metadata": {},
   "outputs": [
    {
     "name": "stdout",
     "output_type": "stream",
     "text": [
      "                     Accuracy  Precision    Recall  F1 Score   ROC AUC\n",
      "Logistic Regression  0.946595   0.964384  0.928760  0.946237  0.946812\n",
      "Decision Tree        0.958611   0.950777  0.968338  0.959477  0.958493\n",
      "Random Forest        0.979973   0.971503  0.989446  0.980392  0.979858\n",
      "Gradient Boosting    0.986649   0.981723  0.992084  0.986877  0.986583\n"
     ]
    }
   ],
   "source": [
    "evaluation_results = trainer.evaluate_models()\n",
    "evaluation_results_df = pd.DataFrame(evaluation_results).T\n",
    "print(evaluation_results_df)"
   ]
  },
  {
   "cell_type": "markdown",
   "metadata": {},
   "source": [
    "Save models"
   ]
  },
  {
   "cell_type": "code",
   "execution_count": 9,
   "metadata": {},
   "outputs": [
    {
     "name": "stdout",
     "output_type": "stream",
     "text": [
      "Model Logistic Regression saved to ../models\\Logistic Regression.joblib.\n",
      "Model Decision Tree saved to ../models\\Decision Tree.joblib.\n",
      "Model Random Forest saved to ../models\\Random Forest.joblib.\n",
      "Model Gradient Boosting saved to ../models\\Gradient Boosting.joblib.\n"
     ]
    }
   ],
   "source": [
    "# Save each tuned model\n",
    "for model_name, model in trainer.models.items():\n",
    "    trainer.save_model(model, model_name)"
   ]
  }
 ],
 "metadata": {
  "language_info": {
   "name": "python"
  }
 },
 "nbformat": 4,
 "nbformat_minor": 2
}
